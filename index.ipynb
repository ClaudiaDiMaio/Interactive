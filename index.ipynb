{
 "cells": [
  {
   "cell_type": "markdown",
   "metadata": {},
   "source": [
    "# Astronomical Interactives"
   ]
  },
  {
   "cell_type": "markdown",
   "metadata": {},
   "source": [
    "[*Astro Interactives*](https://github.com/ClaudiaDiMaio/Interactive/) è una serie di Jupyter Notebooks pensato per fornire dimostrazioni interattive e simulazioni per corsi introduttivi di astronomia (e in alcuni casi, corsi di astrofisica di livello avanzato), ispirata ai Notebooks realizzati da Juan Cabanela.\n",
    "\n",
    "This software is provide \"as-is\" and may contain bugs/errors that could  mis-represent astronomical reality.  You use this software at your own risk!  Keep in mind the authors are not professional programers!"
   ]
  },
  {
   "cell_type": "markdown",
   "metadata": {},
   "source": [
    "## Available Notebooks"
   ]
  },
  {
   "cell_type": "markdown",
   "metadata": {},
   "source": [
    "The currently available Interactives are the following:\n",
    "\n",
    "### General Astronomy\n",
    "1. [Flux vs.Luminosity Interactive](Interactives/FluxVsLuminositySimulation.ipynb) - Questo strumento interattivo è pensato per essere utilizzato nelle discussioni dei concetti di flusso/brillantezza, luminosità.\n",
    "\n",
    "\n",
    "### Stellar Astronomy\n",
    "1. [Luminosity Calculator Interactive](Interactives/LuminosityCalculator.ipynb)  - Questo strumento interattivo viene utilizzato per illustrare agli studenti come il raggio e la temperatura di una stella influenzino la sua luminosità. I colori delle stelle corrispondono accuratamente alla temperatura, ma le stelle prodotte potrebbero non avere raggi e temperature che corrispondono a stelle reali.\n",
    "\n",
    "2. [Blackbody Spectra Interactives](Interactives/Blackbody_Simulation.ipynb) - Questo insieme di figure interattive può essere utilizzato per esplorare le proprietà dello spettro di corpo nero applicato alle stelle.\n",
    "\n",
    "3. [HR Diagram Interactives](Interactives/HR_Diagram.ipynb) - Questo insieme di grafici interattivi consente a uno studente di esplorare i dati che vanno nel diagramma HR, quindi come il fitting della sequenza principale può essere utilizzato per determinare la distanza di un ammasso stellare, e infine, come i dettagliati modelli di evoluzione stellare possono essere utilizzati anche per determinare l'età di un ammasso stellare.\n"
   ]
  },
  {
   "cell_type": "markdown",
   "metadata": {},
   "source": [
    "## Known issues"
   ]
  },
  {
   "cell_type": "markdown",
   "metadata": {},
   "source": [
    "- In some interactives, the animations are buffered by the web browser so that they lag behind the user inputs.  Efforts have been made to optimize the code to avoid these problems."
   ]
  }
 ],
 "metadata": {
  "kernelspec": {
   "display_name": "Python 3",
   "language": "python",
   "name": "python3"
  },
  "language_info": {
   "codemirror_mode": {
    "name": "ipython",
    "version": 3
   },
   "file_extension": ".py",
   "mimetype": "text/x-python",
   "name": "python",
   "nbconvert_exporter": "python",
   "pygments_lexer": "ipython3",
   "version": "3.7.9"
  }
 },
 "nbformat": 4,
 "nbformat_minor": 1
}
